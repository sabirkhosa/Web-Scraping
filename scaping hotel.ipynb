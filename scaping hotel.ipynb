{
 "cells": [
  {
   "cell_type": "code",
   "execution_count": 1,
   "id": "9dcff73a",
   "metadata": {},
   "outputs": [],
   "source": [
    "import requests\n",
    "from bs4 import BeautifulSoup"
   ]
  },
  {
   "cell_type": "code",
   "execution_count": 2,
   "id": "13d26d5b",
   "metadata": {},
   "outputs": [],
   "source": [
    "url=\"https://www.goibibo.com/hotels-international/hotels-in-dubai-ct/\"\n",
    "hdr = {'User-Agent': 'Mozilla/5.0'}\n",
    "response=requests.request(\"GET\",url,headers=hdr)\n",
    "data=BeautifulSoup(response.text, 'html.parser')\n",
    "#print(data)"
   ]
  },
  {
   "cell_type": "code",
   "execution_count": 4,
   "id": "8f5c1e16",
   "metadata": {},
   "outputs": [
    {
     "name": "stdout",
     "output_type": "stream",
     "text": [
      "{'name': 'Omega Hotel, Bur Dubai', 'price': '6623'}\n",
      "{'name': 'Landmark Plaza Hotel', 'price': '5240'}\n",
      "{'name': 'Lemon Tree Hotel Jumeirah', 'price': '8756'}\n",
      "{'name': 'Landmark Hotel Riqqa', 'price': '7160'}\n",
      "{'name': 'Fortune Pearl Hotel Deira', 'price': '4269'}\n",
      "{'name': 'Landmark Hotel', 'price': '6554'}\n",
      "{'name': 'Landmark Premier Deira', 'price': '6554'}\n",
      "{'name': 'Landmark Grand Hotel', 'price': '6970'}\n",
      "{'name': 'Grayton Hotel by Blazon Hotels', 'price': '7565'}\n",
      "{'name': 'Address Boulevard', 'price': '46617'}\n",
      "{'name': 'Address Dubai Marina', 'price': '27962'}\n",
      "{'name': 'Fortune Grand Hotel', 'price': '4743'}\n",
      "{'name': 'Vida Downtown', 'price': '22366'}\n",
      "{'name': 'Manzil Downtown by Vida', 'price': '17611'}\n",
      "{'name': 'Al Khoory Atrium Hotel,Al Barsha', 'price': '9015'}\n",
      "{'name': 'Dubai Marine Beach resort and spa- Near La Mer Beach', 'price': '11502'}\n",
      "{'name': 'Panorama Hotel Dubai', 'price': '5216'}\n",
      "{'name': 'Grand Nova Hotel', 'price': '4641'}\n",
      "{'name': 'Premier Inn Dubai Ibn Battuta Mall', 'price': '4435'}\n",
      "{'name': 'Grand Excelsior Hotel Deira', 'price': '4907'}\n",
      "{'name': 'Emirates Grand Hotel Apartments -Near Burj Khalifa', 'price': '8621'}\n",
      "{'name': 'DoubleTree by Hilton Dubai M square Hotel & Residences', 'price': '7315'}\n",
      "{'name': 'Savoy Park Hotel Apartments', 'price': '8506'}\n",
      "{'name': 'Citymax Hotel Bur Dubai', 'price': '4541'}\n",
      "{'name': 'Arabian Courtyard Hotel & Spa- In Meena Bazaar', 'price': '6213'}\n",
      "{'name': 'Millennium Atria Business Bay', 'price': '14019'}\n",
      "{'name': 'Howard Johnson Plaza, Al Rigga', 'price': '5335'}\n",
      "{'name': 'Palazzo Versace Dubai', 'price': '22172'}\n",
      "{'name': 'Kingsgate Al Jadaf by Millennium', 'price': '7457'}\n",
      "{'name': 'Aravi Hotel Deira', 'price': '4361'}\n"
     ]
    }
   ],
   "source": [
    "for row in data.find_all(\"div\",attrs={\"class\":\"HotelCardstyles__WrapperSectionMetaDiv-sc-1s80tyk-8 edNEqw\"}):\n",
    "    dictionary={}\n",
    "    dictionary[\"name\"]=row.find(\"div\",{\"class\":\"HotelCardstyles__HotelNameWrapperDiv-sc-1s80tyk-22 bwAcIn\"}).a[\"content\"]\n",
    "    dictionary[\"price\"]=row.find(\"div\",{\"class\":\"HotelCardstyles__CurrentPriceTextWrapper-sc-1s80tyk-39 hSNeLh\"}).p.text\n",
    "    print(dictionary)"
   ]
  },
  {
   "cell_type": "code",
   "execution_count": null,
   "id": "44598c40",
   "metadata": {},
   "outputs": [],
   "source": []
  }
 ],
 "metadata": {
  "kernelspec": {
   "display_name": "Python 3 (ipykernel)",
   "language": "python",
   "name": "python3"
  },
  "language_info": {
   "codemirror_mode": {
    "name": "ipython",
    "version": 3
   },
   "file_extension": ".py",
   "mimetype": "text/x-python",
   "name": "python",
   "nbconvert_exporter": "python",
   "pygments_lexer": "ipython3",
   "version": "3.9.12"
  }
 },
 "nbformat": 4,
 "nbformat_minor": 5
}
